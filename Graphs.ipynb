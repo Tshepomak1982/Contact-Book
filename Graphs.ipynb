{
  "nbformat": 4,
  "nbformat_minor": 0,
  "metadata": {
    "colab": {
      "provenance": [],
      "toc_visible": true,
      "authorship_tag": "ABX9TyP8az6ONTI0mhR0rYuLPvi3",
      "include_colab_link": true
    },
    "kernelspec": {
      "name": "python3",
      "display_name": "Python 3"
    },
    "language_info": {
      "name": "python"
    }
  },
  "cells": [
    {
      "cell_type": "markdown",
      "metadata": {
        "id": "view-in-github",
        "colab_type": "text"
      },
      "source": [
        "<a href=\"https://colab.research.google.com/github/Tshepomak1982/Contact-Book/blob/main/Graphs.ipynb\" target=\"_parent\"><img src=\"https://colab.research.google.com/assets/colab-badge.svg\" alt=\"Open In Colab\"/></a>"
      ]
    },
    {
      "cell_type": "markdown",
      "source": [
        "Programming Languages"
      ],
      "metadata": {
        "id": "X_3dlo9nY8_F"
      }
    },
    {
      "cell_type": "code",
      "source": [
        "from abc import ABC, abstractmethod\n",
        "\n",
        "#Abtract Class\n",
        "\n",
        "class Vehicle(ABC):\n",
        "  def __init__(self,n, color):\n",
        "    self.no_of_tyres =n\n",
        "    self.color = color\n",
        "\n",
        "  @abstractmethod\n",
        "  def start(self):\n",
        "       pass\n",
        "\n",
        "  def display(self):\n",
        "    print(f\"Hi, I am calling from Vehicle class. Color {self.color}\")\n",
        "\n",
        "class Bike(Vehicle):\n",
        "    def start(self):\n",
        "      print(\"start with a kick\")\n",
        "\n",
        "class Skooty(Vehicle):\n",
        "  def start(self):\n",
        "      print(\"self start\")\n",
        "\n",
        "class Car(Vehicle):\n",
        "  def start(self):\n",
        "      print(\"Push button to start\")\n",
        "\n",
        "bike = Bike(2,\"Red\")\n",
        "bike.start()\n",
        "bike.display()\n",
        "\n",
        "skooty = Skooty(4,\"Pink\")\n",
        "skooty.start()\n",
        "skooty.display()\n",
        "\n",
        "car =Car(2,\"Green\")\n",
        "car.start()\n",
        "car.display()\n",
        "\n"
      ],
      "metadata": {
        "colab": {
          "base_uri": "https://localhost:8080/"
        },
        "id": "rGI19YAMZNuy",
        "outputId": "bec099a7-6d97-4b51-bef6-742582b840b9"
      },
      "execution_count": 15,
      "outputs": [
        {
          "output_type": "stream",
          "name": "stdout",
          "text": [
            "start with a kick\n",
            "Hi, I am calling from Vehicle class. Color Red\n",
            "self start\n",
            "Hi, I am calling from Vehicle class. Color Pink\n",
            "Push button to start\n",
            "Hi, I am calling from Vehicle class. Color Green\n"
          ]
        }
      ]
    },
    {
      "cell_type": "code",
      "source": [
        "class Student:\n",
        "  def __init__(self, name):\n",
        "     self.name =name\n",
        "\n",
        "s1 =Student(\"Ndi\")\n",
        "print(s1.name)"
      ],
      "metadata": {
        "colab": {
          "base_uri": "https://localhost:8080/"
        },
        "id": "pRW07ZsJh9m3",
        "outputId": "26fa0a85-927c-4377-be34-a7132277f774"
      },
      "execution_count": 9,
      "outputs": [
        {
          "output_type": "stream",
          "name": "stdout",
          "text": [
            "Ndi\n"
          ]
        }
      ]
    },
    {
      "cell_type": "code",
      "source": [
        "class Car:\n",
        "  def __init__(self,brand):\n",
        "    self.brand=brand\n",
        "\n",
        "c1 =Car(\"POLO\")\n",
        "c2 =Car(\"Haval\")\n",
        "\n",
        "print(c1.brand)\n",
        "print(c2.brand)"
      ],
      "metadata": {
        "colab": {
          "base_uri": "https://localhost:8080/"
        },
        "id": "oTPxhs9aqUF2",
        "outputId": "482761a5-16fb-41df-8cbf-0894a2447584"
      },
      "execution_count": 16,
      "outputs": [
        {
          "output_type": "stream",
          "name": "stdout",
          "text": [
            "POLO\n",
            "Haval\n"
          ]
        }
      ]
    },
    {
      "cell_type": "code",
      "source": [
        "class Student:\n",
        "  def __init__(self,name,rollno):\n",
        "    self.name=name\n",
        "    self._rollno=rollno\n",
        "\n",
        "class Branch(Student):\n",
        "      pass\n",
        "\n",
        "b1=Branch(\"Kate\", 500)\n",
        "\n",
        "print(b1.name)\n",
        "print(b1._rollno)"
      ],
      "metadata": {
        "colab": {
          "base_uri": "https://localhost:8080/"
        },
        "id": "xQxYa1EZwFNV",
        "outputId": "2cd300b5-ed44-4219-9cc7-f4ea90b6f779"
      },
      "execution_count": 19,
      "outputs": [
        {
          "output_type": "stream",
          "name": "stdout",
          "text": [
            "Kate\n",
            "500\n"
          ]
        }
      ]
    },
    {
      "cell_type": "code",
      "source": [
        "class Student:\n",
        "    def __init__(self, name):\n",
        "        self.name = name\n",
        "        self._marks = 0     # hidden data (private-ish)\n",
        "\n",
        "    def set_marks(self, marks):\n",
        "        if 0 <= marks <= 100:\n",
        "            self._marks = marks\n",
        "        else:\n",
        "            print(\"Marks must be between 0 and 100.\")\n",
        "\n",
        "    def get_marks(self):\n",
        "        return self._marks\n",
        "\n",
        "\n",
        "# --- Using the class ---\n",
        "s = Student(\"Asha\")\n",
        "s.set_marks(95)       # ✅ allowed (goes through the spoon)\n",
        "print(s.get_marks())  # ✅ 95\n",
        "\n",
        "s.set_marks(120)      # ❌ blocked (safe!)\n",
        "print(s.get_marks())  # ✅ still 95 (unchanged)"
      ],
      "metadata": {
        "colab": {
          "base_uri": "https://localhost:8080/"
        },
        "id": "LoKpTIMIx_JX",
        "outputId": "83f27d29-961b-479e-ed65-14b7894b9c79"
      },
      "execution_count": 20,
      "outputs": [
        {
          "output_type": "stream",
          "name": "stdout",
          "text": [
            "95\n",
            "Marks must be between 0 and 100.\n",
            "95\n"
          ]
        }
      ]
    },
    {
      "cell_type": "code",
      "execution_count": null,
      "metadata": {
        "colab": {
          "base_uri": "https://localhost:8080/"
        },
        "id": "osqX44EaOPdW",
        "outputId": "064836f5-5c69-4e12-ae2f-f3aab6e6808c"
      },
      "outputs": [
        {
          "output_type": "stream",
          "name": "stdout",
          "text": [
            "Enter the number of terms: 10\n",
            "The sum of first 10 natural numbers is: 55\n"
          ]
        }
      ],
      "source": [
        "#Program to find the sum of n terms\n",
        "\n",
        "# Input: number of terms\n",
        "n = int(input(\"Enter the number of terms: \"))\n",
        "\n",
        "# Calculate sum using formula\n",
        "total = n * (n + 1) // 2\n",
        "\n",
        "# Display result\n",
        "print(\"The sum of first\", n, \"natural numbers is:\", total)\n"
      ]
    },
    {
      "cell_type": "code",
      "source": [
        "# Program to find factorial using math module\n",
        "import math\n",
        "\n",
        "# Input: number\n",
        "n = int(input(\"Enter a number: \"))\n",
        "\n",
        "# Calculate factorial using math.factorial()\n",
        "result = math.factorial(n)\n",
        "\n",
        "# Display result\n",
        "print(\"The factorial of\", n, \"is:\", result)"
      ],
      "metadata": {
        "colab": {
          "base_uri": "https://localhost:8080/"
        },
        "id": "RaGfPPyYR2S_",
        "outputId": "b36c6c42-619e-4aba-ab63-fcf624cc369f"
      },
      "execution_count": null,
      "outputs": [
        {
          "output_type": "stream",
          "name": "stdout",
          "text": [
            "Enter a number: 7\n",
            "The factorial of 7 is: 5040\n"
          ]
        }
      ]
    },
    {
      "cell_type": "code",
      "source": [
        "result = math.factorial(n)\n",
        "print(\"The factorial of\", n, \"is:\", result)"
      ],
      "metadata": {
        "colab": {
          "base_uri": "https://localhost:8080/"
        },
        "id": "IrCOKrgwT7v4",
        "outputId": "d2d930d1-52cc-4f1b-e5ae-48843a594c78"
      },
      "execution_count": null,
      "outputs": [
        {
          "output_type": "stream",
          "name": "stdout",
          "text": [
            "The factorial of 7 is: 5040\n"
          ]
        }
      ]
    },
    {
      "cell_type": "code",
      "source": [
        "# Program to display Fibonacci series for first 6 terms\n",
        "\n",
        "n = 8  # number of terms\n",
        "\n",
        "# First two terms\n",
        "\n",
        "a, b = 0, 1\n",
        "\n",
        "print(\"Fibonacci series of first\", n, \"terms:\")\n",
        "\n",
        "for i in range(n):\n",
        "\n",
        "    print(a, end=\" \")\n",
        "\n",
        "    a, b = b, a + b\n",
        "\n"
      ],
      "metadata": {
        "colab": {
          "base_uri": "https://localhost:8080/"
        },
        "id": "Fy4Q6JkLWUFC",
        "outputId": "49ec4725-4e8c-4b96-91e1-60bcbed59767"
      },
      "execution_count": null,
      "outputs": [
        {
          "output_type": "stream",
          "name": "stdout",
          "text": [
            "Fibonacci series of first 8 terms:\n",
            "0 1 1 2 3 5 8 13 "
          ]
        }
      ]
    },
    {
      "cell_type": "code",
      "source": [
        "# Program to find permutation and combination\n",
        "import math\n",
        "\n",
        "# Given values\n",
        "n = 7\n",
        "r = 4\n",
        "\n",
        "# Permutation formula: nPr = n! / (n-r)!\n",
        "permutation = math.perm(n, r)\n",
        "\n",
        "# Combination formula: nCr = n! / (r! * (n-r)!)\n",
        "combination = math.comb(n, r)\n",
        "\n",
        "# Display results\n",
        "print(\"Permutation (nPr) when n=7 and r=4 is:\", permutation)\n",
        "print(\"Combination (nCr) when n=7 and r=4 is:\", combination)"
      ],
      "metadata": {
        "colab": {
          "base_uri": "https://localhost:8080/"
        },
        "id": "Rji26ZyMfony",
        "outputId": "09c14791-455c-4a9e-d54b-daee3182b138"
      },
      "execution_count": null,
      "outputs": [
        {
          "output_type": "stream",
          "name": "stdout",
          "text": [
            "Permutation (nPr) when n=7 and r=4 is: 840\n",
            "Combination (nCr) when n=7 and r=4 is: 35\n"
          ]
        }
      ]
    },
    {
      "cell_type": "code",
      "source": [
        "import math\n",
        "\n",
        "n=7\n",
        "r=3\n",
        "Combination = math.comb(n,r)\n",
        "print(\"No. of possible selections\", Combination)"
      ],
      "metadata": {
        "colab": {
          "base_uri": "https://localhost:8080/"
        },
        "id": "4Z3AvQD3hnCc",
        "outputId": "dd85019b-1343-45a8-c7a4-b243958ccae7"
      },
      "execution_count": null,
      "outputs": [
        {
          "output_type": "stream",
          "name": "stdout",
          "text": [
            "No. of possible selections 35\n"
          ]
        }
      ]
    },
    {
      "cell_type": "code",
      "source": [
        "#Program to create and display a graph with nodes (A,B,C,D,E)\n",
        "\n",
        "import matplotlib.pyplot as plt\n",
        "import networkx as nx\n",
        "\n",
        "#Create a graph object\n",
        "# Program to create and display a graph with nodes {A, B, C, D, E}\n",
        "import matplotlib.pyplot as plt\n",
        "import networkx as nx\n",
        "\n",
        "# Create a graph object\n",
        "G = nx.Graph()\n",
        "\n",
        "# Add nodes\n",
        "nodes = [\"A\", \"B\", \"C\", \"D\", \"E\"]\n",
        "G.add_nodes_from(nodes)\n",
        "\n",
        "# Add edges (connections between nodes)\n",
        "edges = [(\"A\", \"B\"), (\"A\", \"E\"), (\"B\", \"E\"), (\"B\", \"C\"), (\"C\", \"D\"), (\"D\", \"A\")]\n",
        "G.add_edges_from(edges)\n",
        "\n",
        "# Draw the graph\n",
        "nx.draw(G, with_labels=True, node_color=\"grey\", node_size=2000, font_size=14, font_weight=\"bold\", edge_color=\"orange\")\n",
        "\n",
        "# Show the graph\n",
        "plt.title(\"Graph with Nodes {A, B, C, D, E}\")\n",
        "plt.show()\n"
      ],
      "metadata": {
        "colab": {
          "base_uri": "https://localhost:8080/",
          "height": 539
        },
        "id": "nRWKlLailA4N",
        "outputId": "8d9c238a-f6a9-4618-ddb3-bbb27b0525c8"
      },
      "execution_count": null,
      "outputs": [
        {
          "output_type": "display_data",
          "data": {
            "text/plain": [
              "<Figure size 640x480 with 1 Axes>"
            ],
            "image/png": "[encoded data removed]"
          },
          "metadata": {}
        }
      ]
    },
    {
      "cell_type": "code",
      "source": [
        "#Program to create and display a graph with nodes (2,4,6,7,8)\n",
        "\n",
        "import matplotlib.pyplot as plt\n",
        "import networkx as nx\n",
        "\n",
        "#Create a graph object\n",
        "# Program to create and display a graph with nodes {2, 4, 6, 7, 8}\n",
        "import matplotlib.pyplot as plt\n",
        "import networkx as nx\n",
        "\n",
        "# Create a graph object\n",
        "G = nx.Graph()\n",
        "\n",
        "# Add nodes\n",
        "nodes = [\"2\", \"4\", \"6\", \"7\", \"8\"]\n",
        "G.add_nodes_from(nodes)\n",
        "\n",
        "# Add edges (connections between nodes)\n",
        "edges = [(\"2\", \"4\"), (\"6\", \"7\"), (\"6\", \"8\"), (\"7\", \"8\")]\n",
        "G.add_edges_from(edges)\n",
        "\n",
        "# Draw the graph\n",
        "nx.draw(G, with_labels=True, node_color=\"yellow\", node_size=2000, font_size=14, font_weight=\"bold\", edge_color=\"green\")\n",
        "\n",
        "# Show the graph\n",
        "plt.title(\"Graph with Nodes {2, 4, 6, 7, 8}\")\n",
        "plt.show()"
      ],
      "metadata": {
        "colab": {
          "base_uri": "https://localhost:8080/",
          "height": 539
        },
        "id": "NAlStlZUpSHa",
        "outputId": "a04b3761-70d8-48b5-f9f7-c03dd2c2ad6a"
      },
      "execution_count": null,
      "outputs": [
        {
          "output_type": "display_data",
          "data": {
            "text/plain": [
              "<Figure size 640x480 with 1 Axes>"
            ],
            "image/png": "[encoded data removed]"
          },
          "metadata": {}
        }
      ]
    }
  ]
}